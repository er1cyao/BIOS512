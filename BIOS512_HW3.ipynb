{
 "cells": [
  {
   "cell_type": "markdown",
   "id": "45ef956f",
   "metadata": {},
   "source": [
    "# Homework 03 - Nonstandard Evaluation and Git\n",
    "\n",
    "## Nonstandard Evaluation\n"
   ]
  },
  {
   "cell_type": "markdown",
   "id": "7cd69759",
   "metadata": {
    "vscode": {
     "languageId": "r"
    }
   },
   "source": [
    "### Question 1\n",
    "Imagine we have a data frame called `data`, with a `type` column. Which one works and why?\\\n",
    "Function 1:\n",
    "```\n",
    "group_and_tally <- function(df, column){\n",
    "    df %>% group_by({{ column }}) %>% tally();\n",
    "}\n",
    "group_and_tally(data, type);\n",
    "```\n",
    "\n",
    "Function 2:\n",
    "```\n",
    "group_and_tally <- function(df, column){\n",
    "    df %>% group_by(column) %>% tally();\n",
    "}\n",
    "group_and_tally(data, type);\n",
    "```"
   ]
  },
  {
   "cell_type": "markdown",
   "id": "186567ad",
   "metadata": {},
   "source": [
    "The first function will work because when calling the parameter 'column' from the function, the {} operator allows you to evaluate group_by based on the value of the 'column' parameter passed through it compared to the second function where the group_by(column) directly checks the data frame to try and find a column named column instead of passing the value of the column param"
   ]
  },
  {
   "cell_type": "markdown",
   "id": "d0653501",
   "metadata": {},
   "source": [
    "## Git\n",
    "For the questions below, please add the commands you used to complete these steps.\n",
    "\n",
    "### Question 2\n",
    "Set up your git repo on your local computer. If you already make a git repo on GitHub, but it isn’t on your local computer - clone it."
   ]
  },
  {
   "cell_type": "markdown",
   "id": "9bdcc179",
   "metadata": {},
   "source": [
    "I used GitDesktop to clone the repo I made that is in GitHub. I made used the mac os shell to first instantiate the repo, then used GitHub to use an existing repo to create it and store it on Github, and then lastly cloned the repo using GitDesktop and it is on my local device"
   ]
  },
  {
   "cell_type": "markdown",
   "id": "9639ba6c",
   "metadata": {
    "vscode": {
     "languageId": "shellscript"
    }
   },
   "source": [
    "### Question 3\n",
    "Set up your SSH key."
   ]
  },
  {
   "cell_type": "markdown",
   "id": "4a837a19",
   "metadata": {},
   "source": [
    "I already had an SSH key, I added it to my GitHub by first opening terminal and then checking existing keys using -AL ~/.ssh and then seeing that I have a private and public key. Then all I did from there was take examine the key using cat ~/.ssh/(key). I copied that and added it to recognized SSH keys. Then I checked if it was authenticated using the ssh -T git@github.com and it was."
   ]
  },
  {
   "cell_type": "markdown",
   "id": "bcd83789",
   "metadata": {},
   "source": [
    "### Question 4\n",
    "a) Add a HW2 directory to your git repo through the terminal with a HW.md file that says \"This is for homework 2.\"\n"
   ]
  },
  {
   "cell_type": "code",
   "execution_count": null,
   "id": "bb3cee8c",
   "metadata": {
    "vscode": {
     "languageId": "r"
    }
   },
   "outputs": [],
   "source": [
    "(base) MacBook-Pro-150:BIOS512 ericyao$ mkdir HW2\n",
    "(base) MacBook-Pro-150:BIOS512 ericyao$ cd HW2\n",
    "(base) MacBook-Pro-150:HW2 ericyao$ echo \"This is for homework 2.\"\n",
    "This is for homework 2.\n",
    "(base) MacBook-Pro-150:HW2 ericyao$ echo \"This is for homework 2.\" > HW2.md\n",
    "(base) MacBook-Pro-150:HW2 ericyao$ ls\n",
    "HW2.md\n"
   ]
  },
  {
   "cell_type": "markdown",
   "id": "0a600019",
   "metadata": {},
   "source": [
    "b) *Add* HW2.md to the staging area. Then, use the command to see which files have been modified, staged for commit, or are untracked. What does it show?\n",
    "They should copy paste the terminal response after git status, and show that key used the commands below."
   ]
  },
  {
   "cell_type": "code",
   "execution_count": null,
   "id": "2411396d",
   "metadata": {
    "vscode": {
     "languageId": "r"
    }
   },
   "outputs": [],
   "source": [
    "(base) MacBook-Pro-150:HW2 ericyao$ cd ..\n",
    "(base) MacBook-Pro-150:BIOS512 ericyao$ git add HW2/HW2.md\n",
    "(base) MacBook-Pro-150:BIOS512 ericyao$ git status\n",
    "On branch main\n",
    "Your branch is ahead of 'origin/main' by 1 commit.\n",
    "  (use \"git push\" to publish your local commits)\n",
    "\n",
    "Changes to be committed:\n",
    "  (use \"git restore --staged <file>...\" to unstage)\n",
    "\tnew file:   HW2/HW2.md"
   ]
  },
  {
   "cell_type": "markdown",
   "id": "51a1c8a9",
   "metadata": {},
   "source": [
    "c) Save file changes to the main branch."
   ]
  },
  {
   "cell_type": "code",
   "execution_count": null,
   "id": "0a2a8cc9",
   "metadata": {
    "vscode": {
     "languageId": "r"
    }
   },
   "outputs": [],
   "source": [
    "(base) MacBook-Pro-150:BIOS512 ericyao$ git push origin main\n",
    "Enumerating objects: 8, done.\n",
    "Counting objects: 100% (8/8), done.\n",
    "Delta compression using up to 14 threads\n",
    "Compressing objects: 100% (5/5), done.\n",
    "Writing objects: 100% (7/7), 3.14 KiB | 3.14 MiB/s, done.\n",
    "Total 7 (delta 0), reused 2 (delta 0), pack-reused 0\n",
    "To https://github.com/er1cyao/BIOS512.git\n",
    "   ebf04d6..2725171  main -> main\n",
    "(base) MacBook-Pro-150:BIOS512 ericyao$ "
   ]
  },
  {
   "cell_type": "markdown",
   "id": "7ab5dd9a",
   "metadata": {},
   "source": [
    "d) Now, edit the HW2.md file to give it a title."
   ]
  },
  {
   "cell_type": "markdown",
   "id": "0154a2b1",
   "metadata": {
    "vscode": {
     "languageId": "plaintext"
    }
   },
   "source": [
    "I utilized VSCode to give HW2.md a title and then pushed it using source code built into VSCode"
   ]
  },
  {
   "cell_type": "markdown",
   "id": "dd391254",
   "metadata": {},
   "source": [
    "e) Use the command that compares current, unsaved changes to the main branch. What does it say?\\\n",
    "\\\n",
    "f) Use the command that checks the status of the working directory and the staging area *again*. What does it say?\\\n",
    "\\\n",
    "g) Once again, add HW2.md to the staging area and save the file changes to the main branch. Then, get use the command that gives you project history and paste the output in your homework."
   ]
  },
  {
   "cell_type": "markdown",
   "id": "5007cd4e",
   "metadata": {
    "vscode": {
     "languageId": "markdown"
    }
   },
   "source": [
    "Because I staged and pushed the title change, there was no output, because the changes were staged and changed already. I used the git diff command. \n",
    "\n",
    "\n",
    "\n"
   ]
  },
  {
   "cell_type": "code",
   "execution_count": null,
   "id": "9a436ddd",
   "metadata": {
    "vscode": {
     "languageId": "r"
    }
   },
   "outputs": [],
   "source": [
    "(base) MacBook-Pro-150:BIOS512 ericyao$ git status\n",
    "On branch main\n",
    "Your branch is up to date with 'origin/main'.\n",
    "\n",
    "nothing to commit, working tree clean"
   ]
  },
  {
   "cell_type": "code",
   "execution_count": null,
   "id": "bea6caa9",
   "metadata": {
    "vscode": {
     "languageId": "r"
    }
   },
   "outputs": [],
   "source": [
    "(base) MacBook-Pro-150:BIOS512 ericyao$ git log\n",
    "commit 5566342c22a348d3dc8f91c6e2299645550841e6 (HEAD -> main, origin/main, origin/HEAD)\n",
    "Author: er1cyao <104165512+er1cyao@users.noreply.github.com>\n",
    "Date:   Tue Sep 9 14:40:51 2025 -0400\n",
    "\n",
    "    Add Title To HW.md\n",
    "\n",
    "commit 272517158d9011244fd26cee53c9a20f8d7d509d\n",
    "Author: er1cyao <104165512+er1cyao@users.noreply.github.com>\n",
    "Date:   Tue Sep 9 14:33:19 2025 -0400\n",
    "\n",
    "    Add HW2.md for homework 2\n",
    "\n",
    "commit 8cf4281aa47ed07b2d45bfc1edada4a610a5a36e\n",
    "Author: er1cyao <104165512+er1cyao@users.noreply.github.com>\n",
    "Date:   Tue Sep 9 14:10:59 2025 -0400\n",
    "\n",
    "    Create BIOS512_HW3.ipynb\n",
    "\n",
    "commit ebf04d6446abcba3cf7b43b218added285ecf910\n",
    "Author: er1cyao <104165512+er1cyao@users.noreply.github.com>\n",
    "Date:   Tue Sep 9 14:01:51 2025 -0400"
   ]
  },
  {
   "cell_type": "markdown",
   "id": "a19411e1",
   "metadata": {},
   "source": [
    "h) Do some searching... What `git` command will provide you documentation on other commands? Use that command to find documentation on `git log` and `git show`. What does `--since` mean in regards to `git log`? Copy and paste what is written in the documentation."
   ]
  },
  {
   "cell_type": "markdown",
   "id": "50796417",
   "metadata": {},
   "source": [
    "The git help command will allow you to see documentation. \n"
   ]
  },
  {
   "cell_type": "code",
   "execution_count": null,
   "id": "38de0e94",
   "metadata": {
    "vscode": {
     "languageId": "r"
    }
   },
   "outputs": [],
   "source": [
    "\n",
    " --since=<date>, --after=<date>\n",
    "           Show commits more recent than a specific date."
   ]
  },
  {
   "cell_type": "markdown",
   "id": "ba302ef2",
   "metadata": {},
   "source": [
    "## Tidyverse\n",
    "\n",
    "Note: Please make sure Binder is set up correctly to run this section. You can follow the instructions here: https://github.com/rjenki/BIOS512. "
   ]
  },
  {
   "cell_type": "markdown",
   "id": "78255223",
   "metadata": {},
   "source": [
    "**Please show your code for this section!** Before completing this section, please run the following."
   ]
  },
  {
   "cell_type": "code",
   "execution_count": 2,
   "id": "1f1bd613",
   "metadata": {
    "vscode": {
     "languageId": "r"
    }
   },
   "outputs": [
    {
     "name": "stderr",
     "output_type": "stream",
     "text": [
      "-- \u001b[1mAttaching core tidyverse packages\u001b[22m ------------------------ tidyverse 2.0.0 --\n",
      "\u001b[32mv\u001b[39m \u001b[34mdplyr    \u001b[39m 1.1.4     \u001b[32mv\u001b[39m \u001b[34mreadr    \u001b[39m 2.1.5\n",
      "\u001b[32mv\u001b[39m \u001b[34mforcats  \u001b[39m 1.0.0     \u001b[32mv\u001b[39m \u001b[34mstringr  \u001b[39m 1.5.1\n",
      "\u001b[32mv\u001b[39m \u001b[34mggplot2  \u001b[39m 3.5.1     \u001b[32mv\u001b[39m \u001b[34mtibble   \u001b[39m 3.2.1\n",
      "\u001b[32mv\u001b[39m \u001b[34mlubridate\u001b[39m 1.9.4     \u001b[32mv\u001b[39m \u001b[34mtidyr    \u001b[39m 1.3.1\n",
      "\u001b[32mv\u001b[39m \u001b[34mpurrr    \u001b[39m 1.0.4     \n",
      "-- \u001b[1mConflicts\u001b[22m ------------------------------------------ tidyverse_conflicts() --\n",
      "\u001b[31mx\u001b[39m \u001b[34mdplyr\u001b[39m::\u001b[32mfilter()\u001b[39m masks \u001b[34mstats\u001b[39m::filter()\n",
      "\u001b[31mx\u001b[39m \u001b[34mdplyr\u001b[39m::\u001b[32mlag()\u001b[39m    masks \u001b[34mstats\u001b[39m::lag()\n",
      "\u001b[36mi\u001b[39m Use the conflicted package (\u001b[3m\u001b[34m<http://conflicted.r-lib.org/>\u001b[39m\u001b[23m) to force all conflicts to become errors\n"
     ]
    }
   ],
   "source": [
    "library(tidyverse)\n",
    "if (!dir.exists(\"intermediate\")) dir.create(\"intermediate\", recursive = TRUE)\n",
    "if (!exists(\"mdpre\")) mdpre <- function(x) { print(x) }\n",
    "if (!exists(\"ggmd\"))  ggmd  <- function(p) { print(p) }"
   ]
  },
  {
   "cell_type": "markdown",
   "id": "7a5eb54a",
   "metadata": {},
   "source": [
    "### Question 5\n",
    "\n",
    "Download the patient_names.csv and patient_properties.csv files from Canvas and read them into R. Manually set the date columns to be date variables. Print the first 10 observations of each."
   ]
  },
  {
   "cell_type": "code",
   "execution_count": 6,
   "id": "c5e5d23b",
   "metadata": {
    "vscode": {
     "languageId": "r"
    }
   },
   "outputs": [],
   "source": [
    "names <- read.csv(\"data/patient_names.csv\")\n",
    "prop <- read.csv(\"data/patient_properties.csv\")"
   ]
  },
  {
   "cell_type": "code",
   "execution_count": 9,
   "id": "29ca87af",
   "metadata": {
    "vscode": {
     "languageId": "r"
    }
   },
   "outputs": [
    {
     "data": {
      "text/html": [
       "<table class=\"dataframe\">\n",
       "<caption>A data.frame: 6 x 3</caption>\n",
       "<thead>\n",
       "\t<tr><th></th><th scope=col>ID</th><th scope=col>property</th><th scope=col>value</th></tr>\n",
       "\t<tr><th></th><th scope=col>&lt;chr&gt;</th><th scope=col>&lt;chr&gt;</th><th scope=col>&lt;chr&gt;</th></tr>\n",
       "</thead>\n",
       "<tbody>\n",
       "\t<tr><th scope=row>1</th><td>5605b66b-e92d-c16c-1b83-b8bf7040d51f</td><td>MARITAL  </td><td>M          </td></tr>\n",
       "\t<tr><th scope=row>2</th><td>5605b66b-e92d-c16c-1b83-b8bf7040d51f</td><td>RACE     </td><td>white      </td></tr>\n",
       "\t<tr><th scope=row>3</th><td>5605b66b-e92d-c16c-1b83-b8bf7040d51f</td><td>ETHNICITY</td><td>nonhispanic</td></tr>\n",
       "\t<tr><th scope=row>4</th><td>5605b66b-e92d-c16c-1b83-b8bf7040d51f</td><td>GENDER   </td><td>F          </td></tr>\n",
       "\t<tr><th scope=row>5</th><td>6e5ae27c-8038-7988-e2c0-25a103f01bfa</td><td>MARITAL  </td><td>M          </td></tr>\n",
       "\t<tr><th scope=row>6</th><td>6e5ae27c-8038-7988-e2c0-25a103f01bfa</td><td>RACE     </td><td>white      </td></tr>\n",
       "</tbody>\n",
       "</table>\n"
      ],
      "text/latex": [
       "A data.frame: 6 x 3\n",
       "\\begin{tabular}{r|lll}\n",
       "  & ID & property & value\\\\\n",
       "  & <chr> & <chr> & <chr>\\\\\n",
       "\\hline\n",
       "\t1 & 5605b66b-e92d-c16c-1b83-b8bf7040d51f & MARITAL   & M          \\\\\n",
       "\t2 & 5605b66b-e92d-c16c-1b83-b8bf7040d51f & RACE      & white      \\\\\n",
       "\t3 & 5605b66b-e92d-c16c-1b83-b8bf7040d51f & ETHNICITY & nonhispanic\\\\\n",
       "\t4 & 5605b66b-e92d-c16c-1b83-b8bf7040d51f & GENDER    & F          \\\\\n",
       "\t5 & 6e5ae27c-8038-7988-e2c0-25a103f01bfa & MARITAL   & M          \\\\\n",
       "\t6 & 6e5ae27c-8038-7988-e2c0-25a103f01bfa & RACE      & white      \\\\\n",
       "\\end{tabular}\n"
      ],
      "text/markdown": [
       "\n",
       "A data.frame: 6 x 3\n",
       "\n",
       "| <!--/--> | ID &lt;chr&gt; | property &lt;chr&gt; | value &lt;chr&gt; |\n",
       "|---|---|---|---|\n",
       "| 1 | 5605b66b-e92d-c16c-1b83-b8bf7040d51f | MARITAL   | M           |\n",
       "| 2 | 5605b66b-e92d-c16c-1b83-b8bf7040d51f | RACE      | white       |\n",
       "| 3 | 5605b66b-e92d-c16c-1b83-b8bf7040d51f | ETHNICITY | nonhispanic |\n",
       "| 4 | 5605b66b-e92d-c16c-1b83-b8bf7040d51f | GENDER    | F           |\n",
       "| 5 | 6e5ae27c-8038-7988-e2c0-25a103f01bfa | MARITAL   | M           |\n",
       "| 6 | 6e5ae27c-8038-7988-e2c0-25a103f01bfa | RACE      | white       |\n",
       "\n"
      ],
      "text/plain": [
       "  ID                                   property  value      \n",
       "1 5605b66b-e92d-c16c-1b83-b8bf7040d51f MARITAL   M          \n",
       "2 5605b66b-e92d-c16c-1b83-b8bf7040d51f RACE      white      \n",
       "3 5605b66b-e92d-c16c-1b83-b8bf7040d51f ETHNICITY nonhispanic\n",
       "4 5605b66b-e92d-c16c-1b83-b8bf7040d51f GENDER    F          \n",
       "5 6e5ae27c-8038-7988-e2c0-25a103f01bfa MARITAL   M          \n",
       "6 6e5ae27c-8038-7988-e2c0-25a103f01bfa RACE      white      "
      ]
     },
     "metadata": {},
     "output_type": "display_data"
    }
   ],
   "source": [
    "head(view(prop))"
   ]
  },
  {
   "cell_type": "markdown",
   "id": "cc6f646b",
   "metadata": {},
   "source": [
    "### Question 6\n",
    "In the data frame pulled from patient_properties, you'll notice that the data is long, not wide. Do a pivot to make the properties their own columns. Print the first 10 observations after you do so."
   ]
  },
  {
   "cell_type": "code",
   "execution_count": 12,
   "id": "79cedf8f",
   "metadata": {
    "vscode": {
     "languageId": "r"
    }
   },
   "outputs": [
    {
     "name": "stdout",
     "output_type": "stream",
     "text": [
      "\u001b[90m# A tibble: 974 x 5\u001b[39m\n",
      "   ID                                   MARITAL RACE   ETHNICITY   GENDER\n",
      "   \u001b[3m\u001b[90m<chr>\u001b[39m\u001b[23m                                \u001b[3m\u001b[90m<chr>\u001b[39m\u001b[23m   \u001b[3m\u001b[90m<chr>\u001b[39m\u001b[23m  \u001b[3m\u001b[90m<chr>\u001b[39m\u001b[23m       \u001b[3m\u001b[90m<chr>\u001b[39m\u001b[23m \n",
      "\u001b[90m 1\u001b[39m 5605b66b-e92d-c16c-1b83-b8bf7040d51f M       white  nonhispanic F     \n",
      "\u001b[90m 2\u001b[39m 6e5ae27c-8038-7988-e2c0-25a103f01bfa M       white  nonhispanic M     \n",
      "\u001b[90m 3\u001b[39m 8123d076-0886-9007-e956-d5864aa121a7 M       white  nonhispanic M     \n",
      "\u001b[90m 4\u001b[39m 770518e4-6133-648e-60c9-071eb2f0e2ce M       white  hispanic    M     \n",
      "\u001b[90m 5\u001b[39m f96addf5-81b9-0aab-7855-d208d3d352c5 M       white  hispanic    M     \n",
      "\u001b[90m 6\u001b[39m 8e9650d1-788a-78f9-4a28-d08f7f95354a M       white  hispanic    M     \n",
      "\u001b[90m 7\u001b[39m 183df435-4190-060e-8f8e-bf63c572b266 M       asian  nonhispanic F     \n",
      "\u001b[90m 8\u001b[39m 720560d4-51da-c38c-ee90-c15935278df1 M       white  nonhispanic M     \n",
      "\u001b[90m 9\u001b[39m 217851b0-5f47-d376-18b9-0fe4ba77207e S       black  hispanic    M     \n",
      "\u001b[90m10\u001b[39m ff331e5c-ab16-e218-f39a-63e11de1ed75 M       native hispanic    M     \n",
      "\u001b[90m# i 964 more rows\u001b[39m\n"
     ]
    }
   ],
   "source": [
    "wideProperties <- pivot_wider(prop, names_from = property, values_from = value)\n",
    "\n",
    "print(wideProperties)"
   ]
  },
  {
   "cell_type": "markdown",
   "id": "dffb85c3",
   "metadata": {},
   "source": [
    "### Question 7\n",
    "Perform a left join of the names and properties_wide data frames by the ID column and print the first 10 rows."
   ]
  },
  {
   "cell_type": "markdown",
   "id": "5f82272f",
   "metadata": {},
   "source": [
    "### Question 8\n",
    "Notice something interesting about the names in our data set. Fix the name formatting and print the first 10 observations."
   ]
  },
  {
   "cell_type": "markdown",
   "id": "c6f65807",
   "metadata": {},
   "source": [
    "### Question 9\n",
    "Using a for statement to loop through the categorical variables (excluding name and ID), print the counts of each unique value in descending order, using the mdpre() function for formatting."
   ]
  },
  {
   "cell_type": "markdown",
   "id": "9c872f41",
   "metadata": {},
   "source": [
    "### Question 10\n",
    "If you see any weird values, get rid of the ones that don't make sense, and combine the ones that are formatted wrong. Don't forget ot check the dates! Print the new tables for categorical values, and print the date ranges."
   ]
  },
  {
   "cell_type": "markdown",
   "id": "b4c83785",
   "metadata": {},
   "source": [
    "### Question 11\n",
    "Make a histogram of the ages of patients by gender. "
   ]
  },
  {
   "cell_type": "markdown",
   "id": "e41b7170",
   "metadata": {},
   "source": [
    "### Question 12\n",
    "Make a scatterplot of birthdate by martial status."
   ]
  }
 ],
 "metadata": {
  "kernelspec": {
   "display_name": "R",
   "language": "R",
   "name": "ir"
  },
  "language_info": {
   "codemirror_mode": "r",
   "file_extension": ".r",
   "mimetype": "text/x-r-source",
   "name": "R",
   "pygments_lexer": "r",
   "version": "4.4.3"
  }
 },
 "nbformat": 4,
 "nbformat_minor": 5
}
